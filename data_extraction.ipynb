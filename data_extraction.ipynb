{
 "cells": [
  {
   "cell_type": "code",
   "execution_count": null,
   "metadata": {
    "colab": {
     "base_uri": "https://localhost:8080/",
     "height": 125
    },
    "id": "RjTzVXR-9kHA",
    "outputId": "717ce972-b8e9-4db7-dcfb-4e12d8c7f0f7"
   },
   "outputs": [
    {
     "name": "stdout",
     "output_type": "stream",
     "text": [
      "Go to this URL in a browser: https://accounts.google.com/o/oauth2/auth?client_id=947318989803-6bn6qk8qdgf4n4g3pfee6491hc0brc4i.apps.googleusercontent.com&redirect_uri=urn%3aietf%3awg%3aoauth%3a2.0%3aoob&response_type=code&scope=email%20https%3a%2f%2fwww.googleapis.com%2fauth%2fdocs.test%20https%3a%2f%2fwww.googleapis.com%2fauth%2fdrive%20https%3a%2f%2fwww.googleapis.com%2fauth%2fdrive.photos.readonly%20https%3a%2f%2fwww.googleapis.com%2fauth%2fpeopleapi.readonly\n",
      "\n",
      "Enter your authorization code:\n",
      "··········\n",
      "Mounted at /content/gdrive\n"
     ]
    }
   ],
   "source": [
    "import numpy as np\n",
    "from google.colab import drive\n",
    "drive.mount('/content/gdrive')"
   ]
  },
  {
   "cell_type": "code",
   "execution_count": null,
   "metadata": {
    "colab": {
     "base_uri": "https://localhost:8080/",
     "height": 34
    },
    "id": "prss7KqiQxPq",
    "outputId": "3f128ff5-79bd-4d60-b76c-e3f01fbadc2b"
   },
   "outputs": [
    {
     "name": "stderr",
     "output_type": "stream",
     "text": [
      "Using TensorFlow backend.\n"
     ]
    }
   ],
   "source": [
    "import librosa\n",
    "from librosa import display\n",
    "import matplotlib\n",
    "import matplotlib.pyplot as plt\n",
    "import os\n",
    "import pandas as pd\n",
    "import glob \n",
    "from sklearn.model_selection import train_test_split\n",
    "from tensorflow.keras import datasets, layers, models\n",
    "from keras.layers import Conv1D, MaxPooling1D, Dropout\n",
    "from tensorflow.keras.optimizers import *\n",
    "from sklearn.metrics import confusion_matrix\n",
    "\n"
   ]
  },
  {
   "cell_type": "code",
   "execution_count": null,
   "metadata": {
    "colab": {
     "base_uri": "https://localhost:8080/",
     "height": 296
    },
    "id": "z_ZhvUpJ-eXe",
    "outputId": "a6415fbe-db52-4833-e016-1d90a19b6781"
   },
   "outputs": [
    {
     "data": {
      "text/plain": [
       "<matplotlib.collections.PolyCollection at 0x7f7da0b5ada0>"
      ]
     },
     "execution_count": 3,
     "metadata": {
      "tags": []
     },
     "output_type": "execute_result"
    },
    {
     "data": {
      "image/png": "[encoded data removed]",
      "text/plain": [
       "<Figure size 864x288 with 1 Axes>"
      ]
     },
     "metadata": {
      "needs_background": "light",
      "tags": []
     },
     "output_type": "display_data"
    }
   ],
   "source": [
    "data, sampling_rate = librosa.load('gdrive/My Drive/DT2119 Speech Speaker Recognition/Project/hol.wav')\n",
    "plt.figure(figsize=(12, 4))\n",
    "librosa.display.waveplot(data, sr=sampling_rate)"
   ]
  },
  {
   "cell_type": "code",
   "execution_count": null,
   "metadata": {
    "id": "UPZcEVsWRKHI"
   },
   "outputs": [],
   "source": [
    "#calculating the mfccs and storing the labels(emotions and actors) and mfccs in a list\n",
    "\n",
    "path = 'gdrive/My Drive/DT2119 Speech Speaker Recognition/Project/ravdess-emotional-speech-audio/'\n",
    "path_ = 'gdrive/My Drive/DT2119 Speech Speaker Recognition/Project/'\n",
    "data_lst = []\n",
    "for folder, sub_folders, files in os.walk(path):\n",
    "    for f in files:\n",
    "        utter, sampling_rate = librosa.load(os.path.join(folder,f), res_type='kaiser_fast')\n",
    "        mfccs = np.mean(librosa.feature.mfcc(y=utter, sr=sampling_rate, n_mfcc=13).T,axis=0) \n",
    "        labels_emotions = int(f[7:8]) - 1\n",
    "        labels_actor = int(f[18:20]) - 1\n",
    "        data = mfccs, labels_emotions, labels_actor\n",
    "        data_lst.append(data)\n",
    "\n",
    "#converting the list into numpy array and saving it as a .npy file\n",
    "\n",
    "dataset = np.array(data_lst)\n",
    "#np.save(path_+'Data_Actor_All.npy', dataset)\n",
    "np.save(path_+'Data_Actor_All_13.npy', dataset) # to use this change number of mfcc to 13 above.\n",
    "#np.save(path_+'Data_Actor_All_40.npy', dataset) # to use this change number of mfcc to 40 above.\n"
   ]
  },
  {
   "cell_type": "code",
   "execution_count": null,
   "metadata": {
    "id": "UMiBeNBj2TZ1"
   },
   "outputs": [],
   "source": [
    "#Loading the data and splitting it into training and test\n",
    "path_ = 'gdrive/My Drive/DT2119 Speech Speaker Recognition/Project/'\n",
    "data_actor_all = np.load(path_+\"Data_Actor_All_13.npy\", allow_pickle=True)\n",
    "mfccs, label_emotions, label_actors = zip(*data_actor_all)\n",
    "\n",
    "\n",
    "X = np.asarray(mfccs)\n",
    "Y = np.asarray(label_emotions)\n",
    "Xtr, Xtst, Ytr, Ytst = train_test_split(X, Y, test_size=0.20, shuffle = True)\n",
    "Xtr, Xval, Ytr, Yval = train_test_split(Xtr, Ytr, test_size=0.20, shuffle = True)\n",
    "\n",
    "\n",
    "\n",
    "Xtr = np.expand_dims(Xtr, axis=2)\n",
    "Xtst = np.expand_dims(Xtst, axis=2)\n",
    "Xval = np.expand_dims(Xval, axis=2)\n",
    "\n"
   ]
  },
  {
   "cell_type": "code",
   "execution_count": null,
   "metadata": {
    "colab": {
     "base_uri": "https://localhost:8080/",
     "height": 117
    },
    "id": "o2EsenZXUlc5",
    "outputId": "64cb3749-e037-492c-f930-1561e6a12e68"
   },
   "outputs": [
    {
     "name": "stdout",
     "output_type": "stream",
     "text": [
      "(1849, 25, 1)\n",
      "(1849,)\n",
      "(463, 25, 1)\n",
      "(463,)\n",
      "(578, 25, 1)\n",
      "(578,)\n"
     ]
    }
   ],
   "source": [
    "print(Xtr.shape)\n",
    "print(Ytr.shape)\n",
    "print(Xval.shape)\n",
    "print(Yval.shape)\n",
    "print(Xtst.shape)\n",
    "print(Ytst.shape)"
   ]
  }
 ],
 "metadata": {
  "colab": {
   "collapsed_sections": [],
   "name": "Project",
   "provenance": []
  },
  "kernelspec": {
   "display_name": "Python 3",
   "language": "python",
   "name": "python3"
  },
  "language_info": {
   "codemirror_mode": {
    "name": "ipython",
    "version": 3
   },
   "file_extension": ".py",
   "mimetype": "text/x-python",
   "name": "python",
   "nbconvert_exporter": "python",
   "pygments_lexer": "ipython3",
   "version": "3.8.6"
  }
 },
 "nbformat": 4,
 "nbformat_minor": 1
}
